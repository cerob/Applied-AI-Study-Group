{
 "cells": [
  {
   "cell_type": "markdown",
   "source": [
    "# NMT: Neural Machine Translation With Attention\n",
    "\n",
    "In this notebook we will implement a RNN based sequence-to-sequence encoder-decoder architecture to translate one language to another using PyTorch. The model is from [Neural Machine Translation by Jointly Learning to Align and Translate](https://arxiv.org/abs/1409.0473) by D Bahdanau, K Cho, Y Bengio.\n",
    ".\n",
    "\n",
    "**We will:**\n",
    "* Get the necessary data and try to represent a language\n",
    "* Preprocess the data to create pairs of utterences and create dataset splits with tokenization\n",
    "* Formulate the NMT task, and create, convert input-output pairs according to the task\n",
    "* Implement the Encoder, Attention, Decoder models in PyTorch\n",
    "* Combine these models to create Seq2Seq model its sequential forward pass.\n",
    "* Implement the training loop, train the model\n",
    "* Implement inference to translate at our will.\n",
    "* Check attention map to understand relation between input and output sentence.\n",
    "* Save and load the model"
   ],
   "metadata": {
    "collapsed": false,
    "pycharm": {
     "name": "#%% md\n"
    }
   }
  },
  {
   "cell_type": "markdown",
   "source": [
    "## Diagrams to understand NMT with Attention"
   ],
   "metadata": {
    "collapsed": false,
    "pycharm": {
     "name": "#%% md\n"
    }
   }
  },
  {
   "cell_type": "markdown",
   "source": [
    "___________\n",
    "NMT task formulation\n",
    "\n",
    "![nmt_task_formulation.drawio.png](nmt_task_formulation.drawio.png)"
   ],
   "metadata": {
    "collapsed": false,
    "pycharm": {
     "name": "#%% md\n"
    }
   }
  },
  {
   "cell_type": "markdown",
   "source": [
    "_______\n",
    "\n",
    "General Encoder Decoder Model\n",
    "\n",
    "\n",
    "![](nmt_task_formulation-general_encoder_decoder_model.drawio.png)\n",
    "_____"
   ],
   "metadata": {
    "collapsed": false,
    "pycharm": {
     "name": "#%% md\n"
    }
   }
  },
  {
   "cell_type": "markdown",
   "source": [
    "First we import all the required modules."
   ],
   "metadata": {
    "collapsed": false,
    "pycharm": {
     "name": "#%% md\n"
    }
   }
  },
  {
   "cell_type": "code",
   "execution_count": 1,
   "outputs": [],
   "source": [
    "from __future__ import unicode_literals, print_function, division\n",
    "from io import open\n",
    "import unicodedata\n",
    "import math\n",
    "import time\n",
    "import re\n",
    "import random\n",
    "from math import floor\n",
    "from typing import Tuple, List, Optional\n",
    "from torch.utils.data import Dataset, DataLoader, random_split\n",
    "\n",
    "import torch\n",
    "import torch.nn as nn\n",
    "from torch import optim, Tensor\n",
    "import torch.nn.functional as F\n",
    "\n",
    "import matplotlib.pyplot as plt\n",
    "\n",
    "plt.switch_backend('agg')\n",
    "import matplotlib.ticker as ticker\n",
    "import numpy as np\n",
    "from datasets import tqdm\n",
    "import requests\n",
    "import zipfile"
   ],
   "metadata": {
    "collapsed": false,
    "pycharm": {
     "name": "#%%\n"
    }
   }
  },
  {
   "cell_type": "code",
   "execution_count": 2,
   "outputs": [],
   "source": [
    "%matplotlib inline"
   ],
   "metadata": {
    "collapsed": false,
    "pycharm": {
     "name": "#%%\n"
    }
   }
  },
  {
   "cell_type": "markdown",
   "source": [
    "Setting our main device for computations"
   ],
   "metadata": {
    "collapsed": false,
    "pycharm": {
     "name": "#%% md\n"
    }
   }
  },
  {
   "cell_type": "code",
   "execution_count": 3,
   "outputs": [
    {
     "name": "stdout",
     "output_type": "stream",
     "text": [
      "cuda\n"
     ]
    }
   ],
   "source": [
    "device = torch.device(\"cuda\" if torch.cuda.is_available() else \"cpu\")\n",
    "print(device)"
   ],
   "metadata": {
    "collapsed": false,
    "pycharm": {
     "name": "#%%\n"
    }
   }
  },
  {
   "cell_type": "markdown",
   "source": [
    "Set the random seeds for reproducability."
   ],
   "metadata": {
    "collapsed": false,
    "pycharm": {
     "name": "#%% md\n"
    }
   }
  },
  {
   "cell_type": "code",
   "execution_count": 4,
   "outputs": [],
   "source": [
    "SEED = 1234\n",
    "\n",
    "random.seed(SEED)\n",
    "torch.manual_seed(SEED)\n",
    "torch.backends.cudnn.deterministic = True"
   ],
   "metadata": {
    "collapsed": false,
    "pycharm": {
     "name": "#%%\n"
    }
   }
  },
  {
   "cell_type": "markdown",
   "source": [
    " # Download Data"
   ],
   "metadata": {
    "collapsed": false,
    "pycharm": {
     "name": "#%% md\n"
    }
   }
  },
  {
   "cell_type": "markdown",
   "source": [
    "First, we download and extract the dataset we will be using."
   ],
   "metadata": {
    "collapsed": false,
    "pycharm": {
     "name": "#%% md\n"
    }
   }
  },
  {
   "cell_type": "code",
   "execution_count": 5,
   "outputs": [],
   "source": [
    "def download_data(url, save_name=\"nmt_data.zip\"):\n",
    "    r = requests.get(url, stream=True)\n",
    "\n",
    "    bar = tqdm(\n",
    "        total=int(r.headers[\"Content-Length\"]),\n",
    "        initial=0,\n",
    "        unit='B',\n",
    "        unit_scale=True,\n",
    "    )\n",
    "\n",
    "    with open(save_name, \"wb\") as f:\n",
    "        for chunk in r.iter_content(chunk_size=1024):\n",
    "            if chunk:\n",
    "                f.write(chunk)\n",
    "                bar.update(1024)\n",
    "    bar.close()\n",
    "\n",
    "def extract_data(saved_name=\"nmt_data.zip\"):\n",
    "    zipfile.ZipFile(saved_name).extractall()"
   ],
   "metadata": {
    "collapsed": false,
    "pycharm": {
     "name": "#%%\n"
    }
   }
  },
  {
   "cell_type": "code",
   "execution_count": 6,
   "outputs": [
    {
     "data": {
      "text/plain": "  0%|          | 0.00/2.88M [00:00<?, ?B/s]",
      "application/vnd.jupyter.widget-view+json": {
       "version_major": 2,
       "version_minor": 0,
       "model_id": "0d08acd0504a4020b9d83d784152d554"
      }
     },
     "metadata": {},
     "output_type": "display_data"
    }
   ],
   "source": [
    "data_url = \"https://download.pytorch.org/tutorial/data.zip\"\n",
    "download_data(data_url)"
   ],
   "metadata": {
    "collapsed": false,
    "pycharm": {
     "name": "#%%\n"
    }
   }
  },
  {
   "cell_type": "code",
   "execution_count": 7,
   "outputs": [],
   "source": [
    "extract_data()"
   ],
   "metadata": {
    "collapsed": false,
    "pycharm": {
     "name": "#%%\n"
    }
   }
  },
  {
   "cell_type": "markdown",
   "source": [
    " # Representing a language\n",
    "When we check our data, we would see pairs of sentences in two languages. However, our models are not capable of directly interpreting words, otherwise we would have no problem at all :)\n",
    "\n",
    "Instead we will first represent a word in a language with a specific index. There other ways to represent a language such as character level encoding but in this notebook, we are going to use word level encoding.\n",
    "\n",
    "To do that we need to have 2 dictionaries word2index, given a word returns its index, and index2word, given an index returns its word.\n",
    "\n",
    "Additionally, we are keeping track of word counts because we might also want replace less frequent with <unknown> token."
   ],
   "metadata": {
    "collapsed": false,
    "pycharm": {
     "name": "#%% md\n"
    }
   }
  },
  {
   "cell_type": "markdown",
   "source": [
    "___________\n",
    "![lang_representation.drawio.png](lang_representation.drawio.png)"
   ],
   "metadata": {
    "collapsed": false,
    "pycharm": {
     "name": "#%% md\n"
    }
   }
  },
  {
   "cell_type": "code",
   "execution_count": 8,
   "outputs": [],
   "source": [
    "sos_token_index = 1\n",
    "eos_token_index = 2\n",
    "pad_token_index = 0\n",
    "sos_token = '<start>'\n",
    "eos_token = '<end>'\n",
    "\n",
    "class Lang:\n",
    "    def __init__(self, name):\n",
    "        self.name = name\n",
    "        self.word2index = {sos_token:sos_token_index, eos_token: eos_token_index}\n",
    "        self.word2count = {sos_token:1, eos_token: 1}\n",
    "        self.index2word = {sos_token_index: sos_token, eos_token_index: eos_token}\n",
    "        self.n_words = 3 # Count SOS and EOS\n",
    "\n",
    "    def add_sentence(self, sentence: str):\n",
    "        for word in sentence.split(' '):\n",
    "            self.add_word(word)\n",
    "\n",
    "    def add_word(self, word: str):\n",
    "        if word not in self.word2index:\n",
    "            self.word2index[word] = self.n_words\n",
    "            self.word2count[word] = 1\n",
    "            self.index2word[self.n_words] = word\n",
    "            self.n_words += 1\n",
    "        else:\n",
    "            self.word2count[word] += 1"
   ],
   "metadata": {
    "collapsed": false,
    "pycharm": {
     "name": "#%%\n"
    }
   }
  },
  {
   "cell_type": "markdown",
   "source": [
    "# Before creating a language we need to preprocess the data!"
   ],
   "metadata": {
    "collapsed": false,
    "pycharm": {
     "name": "#%% md\n"
    }
   }
  },
  {
   "cell_type": "code",
   "execution_count": 9,
   "outputs": [],
   "source": [
    "def unicode_to_ascii(sentence: str) -> str:\n",
    "    \"\"\"\n",
    "     NFD, 'Normal Form Decomposed' gives you decomposed, combined characters.\n",
    "    Mn, Nonspacing mark\n",
    "    :param sentence:\n",
    "    :return: ascii sentence\n",
    "    \"\"\"\n",
    "    return ''.join(\n",
    "        c for c in unicodedata.normalize('NFD', sentence)\n",
    "        if unicodedata.category(c) != 'Mn'\n",
    "    )"
   ],
   "metadata": {
    "collapsed": false,
    "pycharm": {
     "name": "#%%\n"
    }
   }
  },
  {
   "cell_type": "markdown",
   "source": [
    "Because the files are all in Unicode, we will convert Unicode characters to ASCII, lowercase everything, and remove most punctuation."
   ],
   "metadata": {
    "collapsed": false,
    "pycharm": {
     "name": "#%% md\n"
    }
   }
  },
  {
   "cell_type": "code",
   "execution_count": 10,
   "outputs": [],
   "source": [
    "def normalize_string(s: str) -> str:\n",
    "    s = unicode_to_ascii(s.lower().strip())\n",
    "    # creating a space between a word and the punctuyouation following it\n",
    "    # eg: \"he is a boy.\" => \"he is a boy .\"\n",
    "    # Reference:- https://stackoverflow.com/questions/3645931/python-padding-punctuation-with-white-spaces-keeping-punctuation\n",
    "    s = re.sub(r\"([?.!,¿])\", r\" \\1 \", s)\n",
    "    s = re.sub(r'[\" \"]+', \" \", s)\n",
    "    # replacing everything with space except (a-z, A-Z, \".\", \"?\", \"!\", \",\", \"¿\")\n",
    "    s = re.sub(r\"[^a-zA-Z?.!,¿]+\", \" \", s)\n",
    "    return s.strip()"
   ],
   "metadata": {
    "collapsed": false,
    "pycharm": {
     "name": "#%%\n"
    }
   }
  },
  {
   "cell_type": "code",
   "execution_count": 11,
   "outputs": [
    {
     "name": "stdout",
     "output_type": "stream",
     "text": [
      "b'may i borrow this book ?'\n",
      "b'\\xc2\\xbf puedo tomar prestado este libro ?'\n",
      "b'puis je emprunter ce livre ?'\n"
     ]
    }
   ],
   "source": [
    "sentences = [u\"May I borrow this book?\",\n",
    "             u\"¿Puedo tomar prestado este libro?\",\n",
    "             u\"Puis-je emprunter ce livre?\"]\n",
    "for sentence in sentences:\n",
    "    print(normalize_string(sentence).encode('utf-8'))"
   ],
   "metadata": {
    "collapsed": false,
    "pycharm": {
     "name": "#%%\n"
    }
   }
  },
  {
   "cell_type": "markdown",
   "source": [
    "# Dataset creation and tokenization"
   ],
   "metadata": {
    "collapsed": false,
    "pycharm": {
     "name": "#%% md\n"
    }
   }
  },
  {
   "cell_type": "markdown",
   "source": [
    "To read the data file, we will divide it into lines and then into pairs. Also, we need to be sure that we are normalizing every expression in each language."
   ],
   "metadata": {
    "collapsed": false,
    "pycharm": {
     "name": "#%% md\n"
    }
   }
  },
  {
   "cell_type": "code",
   "execution_count": 12,
   "outputs": [],
   "source": [
    "def read_langs(lang1: str, lang2: str, num_examples: Optional[int] = None) -> (Lang, Lang, List[Tuple[str]]):\n",
    "    lines = open('data/%s-%s.txt' % (lang1, lang2), encoding='utf-8')\\\n",
    "        .read()\\\n",
    "        .strip()\\\n",
    "        .split('\\n')\n",
    "    if num_examples:\n",
    "        lines=lines[:num_examples]\n",
    "    print('Read %s lines' % len(lines))\n",
    "    pairs = [[normalize_string(s) for s in l.split('\\t')[:2]] for l in lines]\n",
    "    input_lang = Lang(lang1)\n",
    "    output_lang = Lang(lang2)\n",
    "    return input_lang, output_lang, pairs"
   ],
   "metadata": {
    "collapsed": false,
    "pycharm": {
     "name": "#%%\n"
    }
   }
  },
  {
   "cell_type": "markdown",
   "source": [
    "We'll limit the dataset to only very short and easy sentences because there are a lot of sample sentences and we want to train something very quick.\n",
    "The maximum length here is 8 words (including ending punctuation), and additionally we'are adding phrases that begin with \"I am\" or \"He is,\" as a further ease. However, that is optional and we are leaving for you to play with them."
   ],
   "metadata": {
    "collapsed": false,
    "pycharm": {
     "name": "#%% md\n"
    }
   }
  },
  {
   "cell_type": "code",
   "execution_count": 159,
   "outputs": [],
   "source": [
    "MAX_LENGTH = 11\n",
    "\n",
    "eng_prefixes = (\n",
    "    \"i am \", \"i m \",\n",
    "    \"he is\", \"he s \",\n",
    "    \"she is\", \"she s \",\n",
    "    \"you are\", \"you re \",\n",
    "    \"we are\", \"we re \",\n",
    "    \"they are\", \"they re \"\n",
    ")\n",
    "\n",
    "def filter_pair(p):\n",
    "    return len(p[0].split(' ')) < MAX_LENGTH and \\\n",
    "        len(p[1].split(' ')) < MAX_LENGTH\n",
    "    # and p[0].startswith(eng_prefixes)\n",
    "\n",
    "\n",
    "def filter_pairs(pairs):\n",
    "    return [pair for pair in pairs if filter_pair(pair)]"
   ],
   "metadata": {
    "collapsed": false,
    "pycharm": {
     "name": "#%%\n"
    }
   }
  },
  {
   "cell_type": "markdown",
   "source": [
    "The entire data preparation procedure is as follows:\n",
    "- Read a text file and divide it into lines, then divide the lines into pairs.\n",
    "- Text should be normalized and filtered based on length (and substance).\n",
    "- Create Language (word dictionaries) from pairs of sentences."
   ],
   "metadata": {
    "collapsed": false,
    "pycharm": {
     "name": "#%% md\n"
    }
   }
  },
  {
   "cell_type": "code",
   "execution_count": 160,
   "outputs": [],
   "source": [
    "def prepare_data(lang1: str, lang2: str, num_examples: Optional[int] = None):\n",
    "    input_lang, output_lang, pairs = read_langs(lang1, lang2, num_examples)\n",
    "    print('Read %s sentence pairs' % len(pairs))\n",
    "    pairs = filter_pairs(pairs)\n",
    "    print(\"Trimmed to %s sentence pairs\" % len(pairs))\n",
    "    for pair in pairs:\n",
    "        input_lang.add_sentence(pair[0])\n",
    "        output_lang.add_sentence(pair[1])\n",
    "    print('Counted words:')\n",
    "    print(input_lang.name, input_lang.n_words)\n",
    "    print(output_lang.name, output_lang.n_words)\n",
    "    return input_lang, output_lang, pairs"
   ],
   "metadata": {
    "collapsed": false,
    "pycharm": {
     "name": "#%%\n"
    }
   }
  },
  {
   "cell_type": "markdown",
   "source": [
    "In out example we are translating English to French"
   ],
   "metadata": {
    "collapsed": false,
    "pycharm": {
     "name": "#%% md\n"
    }
   }
  },
  {
   "cell_type": "code",
   "execution_count": 161,
   "outputs": [
    {
     "name": "stdout",
     "output_type": "stream",
     "text": [
      "Read 135842 lines\n",
      "Read 135842 sentence pairs\n",
      "Trimmed to 106364 sentence pairs\n",
      "Counted words:\n",
      "eng 10673\n",
      "fra 17859\n"
     ]
    }
   ],
   "source": [
    "input_lang, output_lang, pairs = prepare_data('eng', 'fra', None)\n",
    "num_examples=len(pairs)"
   ],
   "metadata": {
    "collapsed": false,
    "pycharm": {
     "name": "#%%\n"
    }
   }
  },
  {
   "cell_type": "markdown",
   "source": [
    "Checking the longest sentences for each language, although we put limitation we need to be sure of our max lengths for later stages, just for the sake of efficiency :) And it is a good way to familiarize ourselves with the data."
   ],
   "metadata": {
    "collapsed": false,
    "pycharm": {
     "name": "#%% md\n"
    }
   }
  },
  {
   "cell_type": "code",
   "execution_count": 162,
   "outputs": [
    {
     "name": "stdout",
     "output_type": "stream",
     "text": [
      "i ll be there at five p . m .\n",
      "qui que ce soit est il a la maison ?\n",
      "12 11\n"
     ]
    }
   ],
   "source": [
    "longest_input_sentence = sorted(map(lambda x: x[0], pairs), key=lambda x: len(x.split(' ')), reverse=True)[0]\n",
    "print(longest_input_sentence)\n",
    "# TODO: explain why we need those +2 and +1's\n",
    "longest_input_length = len(longest_input_sentence.split(' ')) + 2\n",
    "longest_output = sorted(map(lambda x: x[1], pairs), key=lambda x: len(x.split(' ')), reverse=True)[0]\n",
    "print(longest_output)\n",
    "longest_output_length = len(longest_output.split(' ')) + 1\n",
    "print(longest_input_length, longest_output_length)"
   ],
   "metadata": {
    "collapsed": false,
    "pycharm": {
     "name": "#%%\n"
    }
   }
  },
  {
   "cell_type": "code",
   "execution_count": 163,
   "outputs": [
    {
     "name": "stdout",
     "output_type": "stream",
     "text": [
      "['i really enjoyed myself .', 'je me suis vraiment bien amusee .']\n"
     ]
    }
   ],
   "source": [
    "print(random.choice(pairs))"
   ],
   "metadata": {
    "collapsed": false,
    "pycharm": {
     "name": "#%%\n"
    }
   }
  },
  {
   "cell_type": "markdown",
   "source": [
    "### sentence - index - tensor conversions\n",
    "To train, we will require an input tensor (indexes of the words in the input phrase) and a target tensor for each pair (indexes of the words in the target sentence). Then we need to be able to go back to phrase from indexes alone to interpret our models outputs."
   ],
   "metadata": {
    "collapsed": false,
    "pycharm": {
     "name": "#%% md\n"
    }
   }
  },
  {
   "cell_type": "code",
   "execution_count": 164,
   "outputs": [],
   "source": [
    "def indexes_from_sentence(lang: Lang, sentence: str) -> List[int]:\n",
    "    return [lang.word2index[word] for word in sentence.split(' ')]"
   ],
   "metadata": {
    "collapsed": false,
    "pycharm": {
     "name": "#%%\n"
    }
   }
  },
  {
   "cell_type": "code",
   "execution_count": 165,
   "outputs": [],
   "source": [
    "def sentence_from_indexes(lang: Lang, indexes):\n",
    "    return ' '.join([lang.index2word[index] for index in indexes])"
   ],
   "metadata": {
    "collapsed": false,
    "pycharm": {
     "name": "#%%\n"
    }
   }
  },
  {
   "cell_type": "code",
   "execution_count": 166,
   "outputs": [],
   "source": [
    "def tensor_from_sentence(lang, sentence):\n",
    "    indexes=indexes_from_sentence(lang, sentence)\n",
    "    return torch.tensor(indexes, dtype=torch.long, device=device)"
   ],
   "metadata": {
    "collapsed": false,
    "pycharm": {
     "name": "#%%\n"
    }
   }
  },
  {
   "cell_type": "code",
   "execution_count": 167,
   "outputs": [],
   "source": [
    "def sentence_from_tensor(lang, tensor: torch.Tensor):\n",
    "    return sentence_from_indexes(lang, tensor.tolist())"
   ],
   "metadata": {
    "collapsed": false,
    "pycharm": {
     "name": "#%%\n"
    }
   }
  },
  {
   "cell_type": "code",
   "execution_count": 168,
   "outputs": [],
   "source": [
    "def tensors_from_pair(input_lang, output_lang, pair):\n",
    "    input_tensor=tensor_from_sentence(input_lang,pair[0])\n",
    "    output_tensor=tensor_from_sentence(output_lang,pair[1])\n",
    "    return input_tensor, output_tensor"
   ],
   "metadata": {
    "collapsed": false,
    "pycharm": {
     "name": "#%%\n"
    }
   }
  },
  {
   "cell_type": "code",
   "execution_count": 169,
   "outputs": [],
   "source": [
    "def add_sos_eos_tokens_to_pair(pair):\n",
    "    source = ' '.join([sos_token, pair[0], eos_token])\n",
    "    target = ' '.join([pair[1], eos_token])\n",
    "    return source, target"
   ],
   "metadata": {
    "collapsed": false,
    "pycharm": {
     "name": "#%%\n"
    }
   }
  },
  {
   "cell_type": "markdown",
   "source": [
    "We are checking whether our methods are able to convert and convert back between indexes and tensors and words truthfully."
   ],
   "metadata": {
    "collapsed": false,
    "pycharm": {
     "name": "#%% md\n"
    }
   }
  },
  {
   "cell_type": "code",
   "execution_count": 170,
   "outputs": [
    {
     "name": "stdout",
     "output_type": "stream",
     "text": [
      "the driver was charged with speeding .\n",
      "tensor([ 525, 3228,  232, 7298,  773, 5689,    4], device='cuda:0')\n",
      "the driver was charged with speeding .\n"
     ]
    }
   ],
   "source": [
    "sample_input = random.choice(pairs)[0]\n",
    "print(sample_input)\n",
    "sample_input_tensor = tensor_from_sentence(input_lang, sample_input)\n",
    "print(sample_input_tensor)\n",
    "print(sentence_from_tensor(input_lang, sample_input_tensor))"
   ],
   "metadata": {
    "collapsed": false,
    "pycharm": {
     "name": "#%%\n"
    }
   }
  },
  {
   "cell_type": "markdown",
   "source": [
    "## PyTorch Dataset and Dataloader creation\n",
    "- Code for processing data samples may become cluttered and difficult to maintain; ideally, we want our dataset code to be separated from our model training code for greater readability and modularity.\n",
    "- PyTorch includes two data primitives: torch.utils.data.DataLoader and torch.utils.data.\n",
    "- The samples and their labels are stored in Dataset, and DataLoader wraps an iterable around the Dataset to provide simple access to the samples."
   ],
   "metadata": {
    "collapsed": false,
    "pycharm": {
     "name": "#%% md\n"
    }
   }
  },
  {
   "cell_type": "markdown",
   "source": [
    "**NMT Dataset:**\n",
    "- Accesses pairs by their indexes and adds SOS & EOS tokens to phrases(sentences).\n",
    "- Then tensors from word indexes are created. Since we want to process our data in batches, they need to be in exact dimensions (elements in the same batch).\n",
    "- We can further improve our approach to that. Currently, every batch is capped to max sentence length regarding its language. In the improved case, one can compute the max length for each batch and then pad accordingly.\n",
    "- We can check whether our data is corrupted or mistakes we make with exception handling."
   ],
   "metadata": {
    "collapsed": false,
    "pycharm": {
     "name": "#%% md\n"
    }
   }
  },
  {
   "cell_type": "code",
   "execution_count": 171,
   "outputs": [],
   "source": [
    "class NMTDataset(Dataset):\n",
    "    def __init__(self,\n",
    "                 input_lang,\n",
    "                 output_lang,\n",
    "                 pairs,\n",
    "                 max_input_length: int,\n",
    "                 max_output_length: int):\n",
    "        self.input_lang = input_lang\n",
    "        self.output_lang = output_lang\n",
    "        self.pairs = pairs\n",
    "        self.max_input_length = max_input_length\n",
    "        self.max_output_length = max_output_length\n",
    "\n",
    "    def __len__(self):\n",
    "        return len(pairs)\n",
    "\n",
    "    def __getitem__(self, item):\n",
    "        try:\n",
    "            pair = pairs[item]\n",
    "            source, target = add_sos_eos_tokens_to_pair(pair)\n",
    "            input_tensor, output_tensor = tensors_from_pair(input_lang, output_lang, (source, target))\n",
    "            padded_input_tensor = torch.full([self.max_input_length], pad_token_index, dtype=torch.long, device=device)\n",
    "            padded_input_tensor[:len(input_tensor)] = input_tensor\n",
    "            padded_output_tensor = torch.full([self.max_output_length], pad_token_index, dtype=torch.long, device=device)\n",
    "            padded_output_tensor[:len(output_tensor)] = output_tensor\n",
    "        except Exception as e:\n",
    "            print('index', item)\n",
    "            print(pairs[item])\n",
    "            raise e\n",
    "        return {'source': padded_input_tensor, 'target': padded_output_tensor}"
   ],
   "metadata": {
    "collapsed": false,
    "pycharm": {
     "name": "#%%\n"
    }
   }
  },
  {
   "cell_type": "markdown",
   "source": [
    "It is vital to have a train, validation, and test datasets. Here we are creating them with random splits."
   ],
   "metadata": {
    "collapsed": false,
    "pycharm": {
     "name": "#%% md\n"
    }
   }
  },
  {
   "cell_type": "code",
   "execution_count": 172,
   "outputs": [],
   "source": [
    "dataset=NMTDataset(input_lang, output_lang, pairs, longest_input_length, longest_output_length)\n",
    "train_size=floor(num_examples*0.8)\n",
    "val_size= floor(num_examples*0.1)\n",
    "test_size=num_examples - train_size - val_size\n",
    "train_val_test_split = (train_size, val_size, test_size)\n",
    "\n",
    "data_train, data_val, data_test = random_split(\n",
    "                dataset, train_val_test_split, generator=torch.Generator().manual_seed(42)\n",
    "            )"
   ],
   "metadata": {
    "collapsed": false,
    "pycharm": {
     "name": "#%%\n"
    }
   }
  },
  {
   "cell_type": "code",
   "execution_count": 173,
   "outputs": [],
   "source": [
    "batch_size=128"
   ],
   "metadata": {
    "collapsed": false,
    "pycharm": {
     "name": "#%%\n"
    }
   }
  },
  {
   "cell_type": "markdown",
   "source": [
    " PyTorch Dataloader represents a Python iterable over a dataset, with support for\n",
    " - map-style and iterable-style datasets,\n",
    " - customizing data loading order,\n",
    " - automatic batching,\n",
    " - single- and multi-process data loading,\n",
    " - automatic memory pinning.\n"
   ],
   "metadata": {
    "collapsed": false,
    "pycharm": {
     "name": "#%% md\n"
    }
   }
  },
  {
   "cell_type": "code",
   "execution_count": 174,
   "outputs": [],
   "source": [
    "train_dataloader=DataLoader(\n",
    "            dataset=data_train,\n",
    "            batch_size=batch_size,\n",
    "            num_workers=0,\n",
    "            pin_memory=False,\n",
    "            shuffle=True,\n",
    "        )\n",
    "val_dataloader=DataLoader(\n",
    "            dataset=data_val,\n",
    "            batch_size=batch_size,\n",
    "            num_workers=0,\n",
    "            pin_memory=False,\n",
    "            shuffle=False,\n",
    "        )\n",
    "test_dataloader=DataLoader(\n",
    "            dataset=data_test,\n",
    "            batch_size=batch_size,\n",
    "            num_workers=0,\n",
    "            pin_memory=False,\n",
    "            shuffle=False,\n",
    "        )"
   ],
   "metadata": {
    "collapsed": false,
    "pycharm": {
     "name": "#%%\n"
    }
   }
  },
  {
   "cell_type": "code",
   "execution_count": 175,
   "outputs": [
    {
     "name": "stdout",
     "output_type": "stream",
     "text": [
      "{'source': tensor([   1,  525, 2749, 8734,  202,   96, 8735,    4,    2,    0,    0,    0],\n",
      "       device='cuda:0'), 'target': tensor([  115,   499,   353,  3347,   358,   438, 15027,    15,     2,     0,\n",
      "            0], device='cuda:0')}\n"
     ]
    }
   ],
   "source": [
    "print(random.choice(dataset))"
   ],
   "metadata": {
    "collapsed": false,
    "pycharm": {
     "name": "#%%\n"
    }
   }
  },
  {
   "cell_type": "markdown",
   "source": [
    "We are controlling whether batches are in an expected shape. In this case, the max length cap is 11, so the longest sentence has 10 \"words.\" For input, we add SOS and EOS. For output, we are only counting the EOS token."
   ],
   "metadata": {
    "collapsed": false,
    "pycharm": {
     "name": "#%% md\n"
    }
   }
  },
  {
   "cell_type": "code",
   "execution_count": 177,
   "outputs": [
    {
     "name": "stdout",
     "output_type": "stream",
     "text": [
      "torch.Size([128, 12])\n",
      "torch.Size([128, 11])\n"
     ]
    }
   ],
   "source": [
    "sample_batch = next(iter(train_dataloader))\n",
    "print(sample_batch['source'].shape)\n",
    "print(sample_batch['target'].shape)"
   ],
   "metadata": {
    "collapsed": false,
    "pycharm": {
     "name": "#%%\n"
    }
   }
  },
  {
   "cell_type": "markdown",
   "source": [
    "# The Model and Attention"
   ],
   "metadata": {
    "collapsed": false,
    "pycharm": {
     "name": "#%% md\n"
    }
   }
  },
  {
   "cell_type": "markdown",
   "source": [
    "### Encoder\n",
    "\n",
    "First, we'll build the encoder. Similar to the previous model, we only use a single layer GRU, however we now use a *bidirectional RNN*. With a bidirectional RNN, we have two RNNs in each layer. A *forward RNN* going over the sentence from left to right (shown below in green), and a *backward RNN* going over the sentence from right to left (yellow). All we need to do in code is set `bidirectional = True` and then pass the embedded sentence to the RNN as before.\n",
    "\n",
    "![](encoder.drawio.png)\n",
    "\n",
    "We now have:\n",
    "\n",
    "$$\\begin{align*}\n",
    "h_t^\\rightarrow &= \\text{EncoderGRU}^\\rightarrow(x_t^\\rightarrow,h_t^\\rightarrow)\\\\\n",
    "h_t^\\leftarrow &= \\text{EncoderGRU}^\\leftarrow(x_t^\\leftarrow,h_t^\\leftarrow)\n",
    "\\end{align*}$$\n",
    "\n",
    "Where $x_0^\\rightarrow = \\text{<sos>}, x_1^\\rightarrow = \\text{guten}$ and $x_0^\\leftarrow = \\text{<eos>}, x_1^\\leftarrow = \\text{morgen}$.\n",
    "\n",
    "we only pass an input (`embedded`) to the RNN, which tells PyTorch to initialize both the forward and backward initial hidden states ($h_0^\\rightarrow$ and $h_0^\\leftarrow$, respectively) to a tensor of all zeros. We'll also get two context vectors, one from the forward RNN after it has seen the final word in the sentence, $z^\\rightarrow=h_T^\\rightarrow$, and one from the backward RNN after it has seen the first word in the sentence, $z^\\leftarrow=h_T^\\leftarrow$.\n",
    "\n",
    "The RNN returns `outputs` and `hidden`.\n",
    "\n",
    "`outputs` is of size **[src sent len, batch size, hid dim * num directions]** where the first `hid_dim` elements in the third axis are the hidden states from the top layer forward RNN, and the last `hid_dim` elements are hidden states from the top layer backward RNN. You can think of the third axis as being the forward and backward hidden states stacked on top of each other, i.e. $h_1 = [h_1^\\rightarrow; h_{T}^\\leftarrow]$, $h_2 = [h_2^\\rightarrow; h_{T-1}^\\leftarrow]$ and we can denote all stacked encoder hidden states as $H=\\{ h_1, h_2, ..., h_T\\}$.\n",
    "\n",
    "`hidden` is of size **[n layers * num directions, batch size, hid dim]**, where **[-2, :, :]** gives the top layer forward RNN hidden state after the final time-step (i.e. after it has seen the last word in the sentence) and **[-1, :, :]** gives the top layer backward RNN hidden state after the final time-step (i.e. after it has seen the first word in the sentence).\n",
    "\n",
    "As the decoder is not bidirectional, it only needs a single context vector, $z$, to use as its initial hidden state, $s_0$, and we currently have two, a forward and a backward one ($z^\\rightarrow=h_T^\\rightarrow$ and $z^\\leftarrow=h_T^\\leftarrow$, respectively). We solve this by concatenating the two context vectors together, passing them through a linear layer, $g$, and applying the $\\tanh$ activation function.\n",
    "\n",
    "$$z=\\tanh(g(h_T^\\rightarrow, h_T^\\leftarrow)) = \\tanh(g(z^\\rightarrow, z^\\leftarrow)) = s_0$$\n",
    "\n",
    "As we want our model to look back over the whole of the source sentence we return `outputs`, the stacked forward and backward hidden states for every token in the source sentence. We also return `hidden`, which acts as our initial hidden state in the decoder. [^fn1]\n",
    "\n",
    "[^fn1]: https://github.com/SethHWeidman/pytorch-seq2seq/"
   ],
   "metadata": {
    "collapsed": false,
    "pycharm": {
     "name": "#%% md\n"
    }
   }
  },
  {
   "cell_type": "code",
   "execution_count": 178,
   "outputs": [],
   "source": [
    "class Encoder(nn.Module):\n",
    "    def __init__(self,\n",
    "                 input_dim: int,\n",
    "                 emb_dim: int,\n",
    "                 enc_hid_dim: int,\n",
    "                 dec_hid_dim: int,\n",
    "                 dropout: float = 0.1):\n",
    "        super().__init__()\n",
    "        self.input_dim = input_dim\n",
    "        self.emb_dim = emb_dim\n",
    "        self.enc_hid_dim = enc_hid_dim\n",
    "        self.dec_hid_dim = dec_hid_dim\n",
    "        self.dropout = dropout\n",
    "        self.embedding = nn.Embedding(input_dim, emb_dim)\n",
    "        self.rnn = nn.GRU(emb_dim, enc_hid_dim, bidirectional = True)\n",
    "        self.d = (1 if not self.rnn.bidirectional else 2) * self.rnn.num_layers\n",
    "        self.fc = nn.Linear(enc_hid_dim * 2, dec_hid_dim)\n",
    "        self.dropout = nn.Dropout(dropout)\n",
    "\n",
    "    def forward(self,\n",
    "                src: Tensor # B, L\n",
    "                ) -> Tuple[Tensor]:\n",
    "        embedded = self.dropout(self.embedding(src)) # B, L, E\n",
    "        outputs, hidden = self.rnn(embedded.permute(1, 0, 2)) # L, B, d*e_H - d, B, e_H\n",
    "        hidden = torch.tanh(self.fc(torch.cat((hidden[-2,:,:], hidden[-1,:,:]), dim = 1))) # B, d_H\n",
    "        return outputs, hidden"
   ],
   "metadata": {
    "collapsed": false,
    "pycharm": {
     "name": "#%%\n"
    }
   }
  },
  {
   "cell_type": "code",
   "execution_count": 179,
   "outputs": [
    {
     "name": "stdout",
     "output_type": "stream",
     "text": [
      "Encoder output shape: (batch size, sequence length, units)\n",
      " torch.Size([16, 32, 128])\n",
      "Encoder Hidden state shape: (batch size, decoder hidden size)\n",
      " torch.Size([32, 64])\n"
     ]
    }
   ],
   "source": [
    "sample_input = torch.randint(1, 100, (32, 16),  device=device)\n",
    "encoder = Encoder(input_lang.n_words, emb_dim=64, enc_hid_dim=64, dec_hid_dim=64).to(device=device)\n",
    "sample_encoder_output, sample_encoder_hidden = encoder(sample_input)\n",
    "print (f'Encoder output shape: (batch size, sequence length, units)\\n {sample_encoder_output.shape}')\n",
    "print (f'Encoder Hidden state shape: (batch size, decoder hidden size)\\n {sample_encoder_hidden.shape}')"
   ],
   "metadata": {
    "collapsed": false,
    "pycharm": {
     "name": "#%%\n"
    }
   }
  },
  {
   "cell_type": "markdown",
   "source": [
    "### Attention\n",
    "\n",
    "Next up is the attention layer. This will take in the previous hidden state of the decoder, $s_{t-1}$, and all of the stacked forward and backward hidden states from the encoder, $H$. The layer will output an attention vector, $a_t$, that is the length of the source sentence, each element is between 0 and 1 and the entire vector sums to 1.\n",
    "\n",
    "Intuitively, this layer takes what we have decoded so far, $s_{t-1}$, and all of what we have encoded, $H$, to produce a vector, $a_t$, that represents which words in the source sentence we should pay the most attention to in order to correctly predict the next word to decode, $\\hat{y}_{t+1}$.\n",
    "\n",
    "First, we calculate the *energy* between the previous decoder hidden state and the encoder hidden states. As our encoder hidden states are a sequence of $T$ tensors, and our previous decoder hidden state is a single tensor, the first thing we do is `repeat` the previous decoder hidden state $T$ times. We then calculate the energy, $E_t$, between them by concatenating them together and passing them through a linear layer (`attn`) and a $\\tanh$ activation function.\n",
    "\n",
    "$$E_t = \\tanh(\\text{attn}(s_{t-1}, H))$$\n",
    "\n",
    "This can be thought of as calculating how well each encoder hidden state \"matches\" the previous decoder hidden state.\n",
    "\n",
    "We currently have a **[dec hid dim, src sent len]** tensor for each example in the batch. We want this to be **[src sent len]** for each example in the batch as the attention should be over the length of the source sentence. This is achieved by multiplying the `energy` by a **[1, attn dim]** tensor, $v$.\n",
    "\n",
    "$$\\hat{a}_t = v E_t$$\n",
    "\n",
    "We can think of this as calculating a weighted sum of the \"match\" over all `dec_hid_dem` elements for each encoder hidden state, where the weights are learned (as we learn the parameters of $v$).\n",
    "\n",
    "Finally, we ensure the attention vector fits the constraints of having all elements between 0 and 1 and the vector summing to 1 by passing it through a $\\text{softmax}$ layer.\n",
    "\n",
    "$$a_t = \\text{softmax}(\\hat{a_t})$$\n",
    "\n",
    "This gives us the attention over the source sentence!\n",
    "\n",
    "Graphically, this looks something like below. This is for calculating the very first attention vector, where $s_{t-1} = s_0 = z$. The green/yellow blocks represent the hidden states from both the forward and backward RNNs, and the attention computation is all done within the pink block. [^fn2]\n",
    "\n",
    "[^fn2]: https://github.com/SethHWeidman/pytorch-seq2seq/\n",
    "\n",
    "![](attention.drawio.png)"
   ],
   "metadata": {
    "collapsed": false,
    "pycharm": {
     "name": "#%% md\n"
    }
   }
  },
  {
   "cell_type": "code",
   "execution_count": 180,
   "outputs": [],
   "source": [
    "class Attention(nn.Module):\n",
    "    def __init__(self,\n",
    "                 enc_hid_dim: int,\n",
    "                 dec_hid_dim: int,\n",
    "                 attn_dim: int):\n",
    "        super().__init__()\n",
    "        self.enc_hid_dim = enc_hid_dim\n",
    "        self.dec_hid_dim = dec_hid_dim\n",
    "        self.attn_in = (enc_hid_dim * 2) + dec_hid_dim\n",
    "        self.attn = nn.Linear(self.attn_in, attn_dim)\n",
    "        self.v = nn.Parameter(torch.rand(attn_dim))\n",
    "\n",
    "    def forward(self,\n",
    "                decoder_hidden: torch.Tensor,  # [batch size, dec hid dim]\n",
    "                encoder_outputs: torch.Tensor  #  [src len, batch size, enc hid dim * 2]\n",
    "                ) -> torch.Tensor:\n",
    "        #hidden = [batch size, dec hid dim]\n",
    "        #encoder_outputs = [src sent len, batch size, enc hid dim * 2]\n",
    "\n",
    "        batch_size = encoder_outputs.shape[1]\n",
    "        src_len = encoder_outputs.shape[0]\n",
    "\n",
    "        #repeat decoder hidden state src_len times\n",
    "        repeated_decoder_hidden = decoder_hidden.unsqueeze(1).repeat(1, src_len, 1)\n",
    "\n",
    "        encoder_outputs = encoder_outputs.permute(1, 0, 2)\n",
    "\n",
    "        #decoder_hidden = [batch size, src sent len, dec hid dim]\n",
    "        #encoder_outputs = [batch size, src sent len, enc hid dim * 2]\n",
    "\n",
    "        # Step 1: to enable feeding through \"self.attn\" pink box above, concatenate\n",
    "        # `repeated_decoder_hidden` and `encoder_outputs`:\n",
    "        # torch.cat((hidden, encoder_outputs), dim = 2) has shape\n",
    "        # [batch_size, seq_len, enc_hid_dim * 2 + dec_hid_dim]\n",
    "\n",
    "        # Step 2: feed through self.attn to end up with:\n",
    "        # [batch_size, seq_len, attn_dim]\n",
    "\n",
    "        # Step 3: feed through tanh\n",
    "\n",
    "        energy = torch.tanh(self.attn(torch.cat((\n",
    "            repeated_decoder_hidden,\n",
    "            encoder_outputs),\n",
    "            dim = 2)))\n",
    "\n",
    "        #energy = [batch size, src sent len, attn_dim]\n",
    "\n",
    "        energy = energy.permute(0, 2, 1)\n",
    "\n",
    "        #energy = [batch size, attn_dim, src sent len]\n",
    "\n",
    "        #v = [attn_dim]\n",
    "\n",
    "        v = self.v.repeat(batch_size, 1).unsqueeze(1)\n",
    "\n",
    "        #v = [batch size, 1, attn_dim]\n",
    "\n",
    "        # High level: energy a function of both encoder element outputs and most recent decoder hidden state,\n",
    "        # of shape attn_dim x enc_seq_len for each observation\n",
    "        # v, being 1 x attn_dim, transforms this into a vector of shape 1 x enc_seq_len for each observation\n",
    "        # Then, we take the softmax over these to get the output of the attention function\n",
    "\n",
    "        attention = torch.bmm(v, energy).squeeze(1)\n",
    "\n",
    "        #attention= [batch size, src len]\n",
    "\n",
    "        return F.softmax(attention, dim=1)\n"
   ],
   "metadata": {
    "collapsed": false,
    "pycharm": {
     "name": "#%%\n"
    }
   }
  },
  {
   "cell_type": "markdown",
   "source": [
    "### Decoder\n",
    "\n",
    "Next up is the decoder.\n",
    "\n",
    "The decoder contains the attention layer, `attention`, which takes the previous hidden state, $s_{t-1}$, all of the encoder hidden states, $H$, and returns the attention vector, $a_t$.\n",
    "\n",
    "We then use this attention vector to create a weighted source vector, $w_t$, denoted by `weighted`, which is a weighted sum of the encoder hidden states, $H$, using $a_t$ as the weights.\n",
    "\n",
    "$$w_t = a_t H$$\n",
    "\n",
    "The input word (that has been embedded), $y_t$, the weighted source vector, $w_t$, and the previous decoder hidden state, $s_{t-1}$, are then all passed into the decoder RNN, with $y_t$ and $w_t$ being concatenated together.\n",
    "\n",
    "$$s_t = \\text{DecoderGRU}(y_t, w_t, s_{t-1})$$\n",
    "\n",
    "We then pass $y_t$, $w_t$ and $s_t$ through the linear layer, $f$, to make a prediction of the next word in the target sentence, $\\hat{y}_{t+1}$. This is done by concatenating them all together.\n",
    "\n",
    "$$\\hat{y}_{t+1} = f(y_t, w_t, s_t)$$\n",
    "\n",
    "The image below shows decoding the first word in an example translation.\n",
    "\n",
    "![](decoder.drawio.png)\n",
    "\n",
    "The green/yellow blocks show the forward/backward encoder RNNs which output $H$, the red block shows the context vector, $z = h_T = \\tanh(g(h^\\rightarrow_T,h^\\leftarrow_T)) = \\tanh(g(z^\\rightarrow, z^\\leftarrow)) = s_0$, the blue block shows the decoder RNN which outputs $s_t$, the purple block shows the linear layer, $f$, which outputs $\\hat{y}_{t+1}$ and the orange block shows the calculation of the weighted sum over $H$ by $a_t$ and outputs $w_t$. Not shown is the calculation of $a_t$.[^fn3]\n",
    "\n",
    "[^fn3]: https://github.com/SethHWeidman/pytorch-seq2seq/"
   ],
   "metadata": {
    "collapsed": false,
    "pycharm": {
     "name": "#%% md\n"
    }
   }
  },
  {
   "cell_type": "code",
   "execution_count": 181,
   "outputs": [],
   "source": [
    "class Decoder(nn.Module):\n",
    "    def __init__(self,\n",
    "                 output_dim: int,\n",
    "                 emb_dim: int,\n",
    "                 enc_hid_dim: int,\n",
    "                 dec_hid_dim: int,\n",
    "                 attention: nn.Module,\n",
    "                 dropout: float = 0.1, ):\n",
    "        super().__init__()\n",
    "        self.emb_dim = emb_dim\n",
    "        self.enc_hid_dim = enc_hid_dim\n",
    "        self.dec_hid_dim = dec_hid_dim\n",
    "        self.output_dim = output_dim\n",
    "        self.dropout = dropout\n",
    "        self.attention = attention\n",
    "        self.embedding = nn.Embedding(output_dim, emb_dim)\n",
    "        self.rnn = nn.GRU((enc_hid_dim * 2) + emb_dim, dec_hid_dim)\n",
    "        self.out = nn.Linear(self.attention.attn_in + emb_dim, output_dim)\n",
    "        self.dropout = nn.Dropout(dropout)\n",
    "\n",
    "    def _weighted_encoder_rep(self,\n",
    "                              decoder_hidden: Tensor,\n",
    "                              encoder_outputs: Tensor) -> Tensor:\n",
    "        a = self.attention(decoder_hidden, encoder_outputs) # B, L\n",
    "        a = a.unsqueeze(1) # B, 1, L\n",
    "        encoder_outputs = encoder_outputs.permute(1, 0, 2) # B, L, d*e_H\n",
    "        weighted_encoder_rep = torch.bmm(a, encoder_outputs) # B, 1, d*e_H\n",
    "        weighted_encoder_rep = weighted_encoder_rep.permute(1, 0, 2) # 1, B, d*e_H\n",
    "        return weighted_encoder_rep, a.squeeze(1)\n",
    "\n",
    "    def forward(self,\n",
    "                input: Tensor,\n",
    "                decoder_hidden: Tensor,\n",
    "                encoder_outputs: Tensor) -> Tuple[Tensor]:\n",
    "        input = input.unsqueeze(0) # 1, B\n",
    "        embedded = self.dropout(self.embedding(input)) # 1, B, E\n",
    "        weighted_encoder_rep, attn_weights = self._weighted_encoder_rep(decoder_hidden,\n",
    "                                                          encoder_outputs)\n",
    "        rnn_input = torch.cat((embedded, weighted_encoder_rep), dim=2)\n",
    "        output, decoder_hidden = self.rnn(rnn_input, decoder_hidden.unsqueeze(0))\n",
    "        embedded = embedded.squeeze(0)\n",
    "        output = output.squeeze(0)\n",
    "        weighted_encoder_rep = weighted_encoder_rep.squeeze(0)\n",
    "        output = self.out(torch.cat((output,\n",
    "                                     weighted_encoder_rep,\n",
    "                                     embedded), dim=1))\n",
    "\n",
    "        return output, decoder_hidden.squeeze(0), attn_weights"
   ],
   "metadata": {
    "collapsed": false,
    "pycharm": {
     "name": "#%%\n"
    }
   }
  },
  {
   "cell_type": "code",
   "execution_count": 182,
   "outputs": [
    {
     "name": "stdout",
     "output_type": "stream",
     "text": [
      "Decoder output shape: (batch size, output_vocab_size)\n",
      " torch.Size([32, 17859])\n",
      "Decoder Hidden state shape: (batch size, decoder_hidden)\n",
      " torch.Size([32, 64])\n",
      "Decoder Attention Weights shape: (batch size, max_input_length)\n",
      " torch.Size([32, 16])\n"
     ]
    }
   ],
   "source": [
    "# Decoder with Attention Results\n",
    "sample_input = torch.randint(0, 1, (32, 1),  device=device)[:, 0]\n",
    "decoder = Decoder(output_dim= output_lang.n_words,\n",
    "                 emb_dim=64,\n",
    "                 enc_hid_dim=64,\n",
    "                 dec_hid_dim=64,\n",
    "                 attention=Attention(64, 64, 8)).to(device=device)\n",
    "sample_output, sample_hidden, attn_weights = decoder.forward(sample_input, sample_encoder_hidden, sample_encoder_output)\n",
    "print (f'Decoder output shape: (batch size, output_vocab_size)\\n {sample_output.shape}')\n",
    "print (f'Decoder Hidden state shape: (batch size, decoder_hidden)\\n {sample_hidden.shape}')\n",
    "print (f'Decoder Attention Weights shape: (batch size, max_input_length)\\n {attn_weights.shape}')"
   ],
   "metadata": {
    "collapsed": false,
    "pycharm": {
     "name": "#%%\n"
    }
   }
  },
  {
   "cell_type": "markdown",
   "source": [
    "### Combining Encoder + Decoder to create Seq2Seq model\n",
    "Now we are going to combine every model component created into one model that gets the source and outputs the target. Although encoder is used as is decoding process must be realized carefully.\n",
    "\n",
    "Decoding steps:\n",
    "- the `outputs` tensor is created to hold all predictions, $\\hat{Y}$\n",
    "- the source sequence, $X$, is fed into the encoder to receive $z$ and $H$\n",
    "- the initial decoder hidden state is set to be the `context` vector, $s_0 = z = h_T$\n",
    "- we use a batch of `<sos>` tokens as the first `input`, $y_1$\n",
    "- we then decode within a loop:\n",
    "  - inserting the input token $y_t$, previous hidden state, $s_{t-1}$, and all encoder outputs, $H$, into the decoder\n",
    "  - receiving a prediction, $\\hat{y}_{t+1}$, and a new hidden state, $s_t$\n",
    "  - we then decide if we are going to teacher force or not, setting the next input as appropriate\n",
    "\n",
    "During the decoding process method called **Teacher Forcing** is being used. This method is the technique where the target word is passed as the following input to the decoder so that our model makes use of ground truth even in the later stages of decoding. Otherwise, it is only fed with its predictions during the decoding steps, which are initially totally off."
   ],
   "metadata": {
    "collapsed": false,
    "pycharm": {
     "name": "#%% md\n"
    }
   }
  },
  {
   "cell_type": "code",
   "execution_count": 183,
   "outputs": [],
   "source": [
    "class Seq2Seq(nn.Module):\n",
    "    def __init__(self, encoder: Encoder, decoder: Decoder):\n",
    "        super().__init__()\n",
    "        self.encoder = encoder\n",
    "        self.decoder = decoder\n",
    "\n",
    "    def forward(self,\n",
    "                source: torch.Tensor,\n",
    "                target: torch.Tensor,\n",
    "                teacher_forcing_ratio: float = 0.5) -> torch.Tensor:\n",
    "        batch_size = source.shape[0]\n",
    "        max_len = target.shape[1]\n",
    "        outputs = torch.zeros(batch_size, max_len, decoder.output_dim).to(device)\n",
    "        encoder_output, hidden = self.encoder(source)\n",
    "        # first input to the decoder is the <sos> token\n",
    "        output = Tensor([sos_token_index]).long().to(device=device).repeat(batch_size)\n",
    "        for t in range(max_len):\n",
    "            output, hidden, _ = self.decoder.forward(output, hidden, encoder_output)\n",
    "            outputs[:, t] = output\n",
    "            teacher_force = random.random() < teacher_forcing_ratio\n",
    "            top_v, top_i= output.topk(1)\n",
    "            if t + 1 is not max_len:\n",
    "                output = (target[:, t] if teacher_force else top_i.squeeze(1))\n",
    "\n",
    "        return outputs # B, L, V_out"
   ],
   "metadata": {
    "collapsed": false,
    "pycharm": {
     "name": "#%%\n"
    }
   }
  },
  {
   "cell_type": "code",
   "execution_count": 193,
   "outputs": [],
   "source": [
    "ENC_EMB_DIM = 64\n",
    "DEC_EMB_DIM = 64\n",
    "ENC_HID_DIM = 256\n",
    "DEC_HID_DIM = 256\n",
    "ATTN_DIM = 64\n",
    "ENC_DROPOUT = 0.1\n",
    "DEC_DROPOUT = 0.1\n",
    "\n",
    "encoder = Encoder(input_dim=input_lang.n_words,\n",
    "                  enc_hid_dim=ENC_HID_DIM,\n",
    "                  emb_dim=ENC_EMB_DIM,\n",
    "                  dec_hid_dim=DEC_HID_DIM,\n",
    "                  dropout=ENC_DROPOUT\n",
    "                  ).to(device=device)\n",
    "decoder = Decoder(output_dim=output_lang.n_words,\n",
    "                  dec_hid_dim=DEC_HID_DIM,\n",
    "                  attention=Attention(enc_hid_dim=ENC_HID_DIM, dec_hid_dim=DEC_HID_DIM, attn_dim=ATTN_DIM),\n",
    "                  emb_dim=DEC_EMB_DIM,\n",
    "                  enc_hid_dim=ENC_HID_DIM,\n",
    "                  dropout=DEC_DROPOUT\n",
    "                  ).to(device=device)\n",
    "seq2seq = Seq2Seq(encoder, decoder).to(device)"
   ],
   "metadata": {
    "collapsed": false,
    "pycharm": {
     "name": "#%%\n"
    }
   }
  },
  {
   "cell_type": "code",
   "execution_count": 194,
   "outputs": [
    {
     "name": "stdout",
     "output_type": "stream",
     "text": [
      "torch.Size([128, 11, 17859])\n"
     ]
    }
   ],
   "source": [
    "# Trying with sample batch\n",
    "outputs = seq2seq(source=sample_batch['source'], target=sample_batch['target'])\n",
    "print(outputs.shape)"
   ],
   "metadata": {
    "collapsed": false,
    "pycharm": {
     "name": "#%%\n"
    }
   }
  },
  {
   "cell_type": "markdown",
   "source": [
    "Let's overview our models general structure and parameter size."
   ],
   "metadata": {
    "collapsed": false,
    "pycharm": {
     "name": "#%% md\n"
    }
   }
  },
  {
   "cell_type": "code",
   "execution_count": 195,
   "outputs": [
    {
     "data": {
      "text/plain": "==========================================================================================\nLayer (type:depth-idx)                   Output Shape              Param #\n==========================================================================================\nSeq2Seq                                  --                        --\n├─Encoder: 1-1                           [9, 128, 512]             --\n│    └─Embedding: 2-1                    [128, 9, 64]              683,072\n│    └─Dropout: 2-2                      [128, 9, 64]              --\n│    └─GRU: 2-3                          [9, 128, 512]             494,592\n│    └─Linear: 2-4                       [128, 256]                131,328\n├─Decoder: 1-2                           --                        --\n│    └─Embedding: 2-5                    [1, 128, 64]              1,142,976\n│    └─Dropout: 2-6                      [1, 128, 64]              --\n│    └─Embedding: 2-7                    --                        (recursive)\n│    └─Attention: 2-8                    [128, 9]                  --\n│    │    └─Linear: 3-1                  [128, 9, 64]              49,216\n│    └─GRU: 2-9                          [1, 128, 256]             640,512\n│    └─Linear: 2-10                      [128, 17859]              14,876,547\n│    └─Embedding: 2-11                   [1, 128, 64]              (recursive)\n│    └─Dropout: 2-12                     [1, 128, 64]              --\n│    └─Attention: 2-13                   [128, 9]                  (recursive)\n│    │    └─Linear: 3-2                  [128, 9, 64]              (recursive)\n│    └─GRU: 2-14                         [1, 128, 256]             (recursive)\n│    └─Linear: 2-15                      [128, 17859]              (recursive)\n│    └─Embedding: 2-16                   [1, 128, 64]              (recursive)\n│    └─Dropout: 2-17                     [1, 128, 64]              --\n│    └─Attention: 2-18                   [128, 9]                  (recursive)\n│    │    └─Linear: 3-3                  [128, 9, 64]              (recursive)\n│    └─GRU: 2-19                         [1, 128, 256]             (recursive)\n│    └─Linear: 2-20                      [128, 17859]              (recursive)\n│    └─Embedding: 2-21                   [1, 128, 64]              (recursive)\n│    └─Dropout: 2-22                     [1, 128, 64]              --\n│    └─Attention: 2-23                   [128, 9]                  (recursive)\n│    │    └─Linear: 3-4                  [128, 9, 64]              (recursive)\n│    └─GRU: 2-24                         [1, 128, 256]             (recursive)\n│    └─Linear: 2-25                      [128, 17859]              (recursive)\n│    └─Embedding: 2-26                   [1, 128, 64]              (recursive)\n│    └─Dropout: 2-27                     [1, 128, 64]              --\n│    └─Attention: 2-28                   [128, 9]                  (recursive)\n│    │    └─Linear: 3-5                  [128, 9, 64]              (recursive)\n│    └─GRU: 2-29                         [1, 128, 256]             (recursive)\n│    └─Linear: 2-30                      [128, 17859]              (recursive)\n│    └─Embedding: 2-31                   [1, 128, 64]              (recursive)\n│    └─Dropout: 2-32                     [1, 128, 64]              --\n│    └─Attention: 2-33                   [128, 9]                  (recursive)\n│    │    └─Linear: 3-6                  [128, 9, 64]              (recursive)\n│    └─GRU: 2-34                         [1, 128, 256]             (recursive)\n│    └─Linear: 2-35                      [128, 17859]              (recursive)\n│    └─Embedding: 2-36                   [1, 128, 64]              (recursive)\n│    └─Dropout: 2-37                     [1, 128, 64]              --\n│    └─Attention: 2-38                   [128, 9]                  (recursive)\n│    │    └─Linear: 3-7                  [128, 9, 64]              (recursive)\n│    └─GRU: 2-39                         [1, 128, 256]             (recursive)\n│    └─Linear: 2-40                      [128, 17859]              (recursive)\n│    └─Embedding: 2-41                   [1, 128, 64]              (recursive)\n│    └─Dropout: 2-42                     [1, 128, 64]              --\n│    └─Attention: 2-43                   [128, 9]                  (recursive)\n│    │    └─Linear: 3-8                  [128, 9, 64]              (recursive)\n│    └─GRU: 2-44                         [1, 128, 256]             (recursive)\n│    └─Linear: 2-45                      [128, 17859]              (recursive)\n==========================================================================================\nTotal params: 18,018,243\nTrainable params: 18,018,243\nNon-trainable params: 0\nTotal mult-adds (G): 16.62\n==========================================================================================\nInput size (MB): 0.02\nForward/backward pass size (MB): 24.78\nParams size (MB): 72.07\nEstimated Total Size (MB): 96.87\n=========================================================================================="
     },
     "execution_count": 195,
     "metadata": {},
     "output_type": "execute_result"
    }
   ],
   "source": [
    "from torchinfo import summary\n",
    "\n",
    "summary(seq2seq, input_size=[(128, 9), (128, 8)], dtypes=[torch.long, torch.long])"
   ],
   "metadata": {
    "collapsed": false,
    "pycharm": {
     "name": "#%%\n"
    }
   }
  },
  {
   "cell_type": "markdown",
   "source": [
    "## Training Loop\n",
    "\n",
    "Since we have the Seq2Seq model, it will be easier to write training scripts because we already decoupled model logic from the training loop.\n",
    "\n",
    "train_epoch function trains the model for 1 epoch. To do so:\n",
    "- the model is switched to train mode\n",
    "- iterating dataloader for every batch in it\n",
    "    - resetting optimizer\n",
    "    - getting output from the model\n",
    "    - calculating the loss\n",
    "    - backpropagation with gradient clipping to have more stable training\n",
    "    - keeping track of loss for the epoch\n"
   ],
   "metadata": {
    "collapsed": false,
    "pycharm": {
     "name": "#%% md\n"
    }
   }
  },
  {
   "cell_type": "code",
   "execution_count": 196,
   "outputs": [],
   "source": [
    "# tell them more about CrossEntropy loss why it is useful in this case\n",
    "def train_epoch(model: nn.Module,\n",
    "                iterator: DataLoader,\n",
    "                optimizer: optim.Optimizer,\n",
    "                criterion: nn.Module,\n",
    "                clip: float):\n",
    "    model.train()\n",
    "    epoch_loss = 0\n",
    "    for batch in iterator:\n",
    "        src, trg = batch['source'].to(device=device), batch['target'].to(device=device)\n",
    "        optimizer.zero_grad()\n",
    "        outputs = model(src, trg)\n",
    "        outputs = outputs.view(-1, outputs.shape[-1])\n",
    "        trg = trg.view(-1)\n",
    "        loss = criterion(outputs, trg)\n",
    "        loss.backward()\n",
    "        torch.nn.utils.clip_grad_norm_(model.parameters(), clip)\n",
    "        optimizer.step()\n",
    "        epoch_loss += loss.item()\n",
    "    return epoch_loss / len(iterator)"
   ],
   "metadata": {
    "collapsed": false,
    "pycharm": {
     "name": "#%%\n"
    }
   }
  },
  {
   "cell_type": "markdown",
   "source": [
    "Evaluate is very similar to training epoch but without backpropagation, since it is only used for validation and test dataloaders."
   ],
   "metadata": {
    "collapsed": false,
    "pycharm": {
     "name": "#%% md\n"
    }
   }
  },
  {
   "cell_type": "code",
   "execution_count": 197,
   "outputs": [],
   "source": [
    "@torch.no_grad()\n",
    "def evaluate(model: nn.Module,\n",
    "             iterator: DataLoader,\n",
    "             criterion: nn.Module):\n",
    "    model.eval()\n",
    "    epoch_loss = 0\n",
    "    for batch in iterator:\n",
    "        src, trg = batch['source'].to(device=device), batch['target'].to(device=device)\n",
    "        outputs = model(src, trg, teacher_forcing_ratio=0)  #turn off teacher forcing\n",
    "        outputs = outputs.view(-1, outputs.shape[-1])\n",
    "        trg = trg.view(-1)\n",
    "        loss = criterion(outputs, trg)\n",
    "        epoch_loss += loss.item()\n",
    "    return epoch_loss / len(iterator)"
   ],
   "metadata": {
    "collapsed": false,
    "pycharm": {
     "name": "#%%\n"
    }
   }
  },
  {
   "cell_type": "markdown",
   "source": [
    "### Helper methods"
   ],
   "metadata": {
    "collapsed": false,
    "pycharm": {
     "name": "#%% md\n"
    }
   }
  },
  {
   "cell_type": "markdown",
   "source": [
    "Measures time for an epoch"
   ],
   "metadata": {
    "collapsed": false,
    "pycharm": {
     "name": "#%% md\n"
    }
   }
  },
  {
   "cell_type": "code",
   "execution_count": 198,
   "outputs": [],
   "source": [
    "def epoch_time(start_time: int,\n",
    "               end_time: int):\n",
    "    elapsed_time = end_time - start_time\n",
    "    elapsed_mins = int(elapsed_time / 60)\n",
    "    elapsed_secs = int(elapsed_time - (elapsed_mins * 60))\n",
    "    return elapsed_mins, elapsed_secs"
   ],
   "metadata": {
    "collapsed": false,
    "pycharm": {
     "name": "#%%\n"
    }
   }
  },
  {
   "cell_type": "markdown",
   "source": [
    "Used for displaying loss progress during the training"
   ],
   "metadata": {
    "collapsed": false,
    "pycharm": {
     "name": "#%% md\n"
    }
   }
  },
  {
   "cell_type": "code",
   "execution_count": 199,
   "outputs": [],
   "source": [
    "def show_plot(points):\n",
    "    plt.figure()\n",
    "    fig, ax = plt.subplots()\n",
    "    # this locator puts ticks at regular intervals\n",
    "    loc = ticker.MultipleLocator(base=0.2)\n",
    "    ax.yaxis.set_major_locator(loc)\n",
    "    plt.plot(points)"
   ],
   "metadata": {
    "collapsed": false,
    "pycharm": {
     "name": "#%%\n"
    }
   }
  },
  {
   "cell_type": "markdown",
   "source": [
    "Setting training hyperparameters"
   ],
   "metadata": {
    "collapsed": false,
    "pycharm": {
     "name": "#%% md\n"
    }
   }
  },
  {
   "cell_type": "markdown",
   "source": [
    "The function we are using is Cross-Entropy loss function. It is one of the most straightforward loss functions in deep learning.\n",
    "\n",
    "> Cross-entropy loss, or log loss, measures the performance of a classification model whose output is a probability value between 0 and 1. Cross-entropy loss increases as the predicted probability diverges from the actual label. So predicting a probability of .012 when the actual observation label is 1 would be bad and result in a high loss value. A perfect model would have a log loss of 0. [^fn4]\n",
    "\n",
    "[^fn4]: https://ml-cheatsheet.readthedocs.io/en/latest/loss_functions.html"
   ],
   "metadata": {
    "collapsed": false,
    "pycharm": {
     "name": "#%% md\n"
    }
   }
  },
  {
   "cell_type": "code",
   "execution_count": 200,
   "outputs": [],
   "source": [
    "N_EPOCHS = 5\n",
    "CLIP = 1\n",
    "model = seq2seq\n",
    "best_valid_loss = float('inf')\n",
    "optimizer = optim.Adam(model.parameters())\n",
    "criterion = nn.CrossEntropyLoss(ignore_index=pad_token_index)"
   ],
   "metadata": {
    "collapsed": false,
    "pycharm": {
     "name": "#%%\n"
    }
   }
  },
  {
   "cell_type": "markdown",
   "source": [
    "Training will happen here. First we will train the model for an epoch then evaluate for validation dataset. In the meantime we will keep track of time, loss and perplexity.\n",
    "\n",
    "Perplexity is an indicator of how well our model performs its prediction. If you'd like to know more about it [wikipedia page](https://en.wikipedia.org/wiki/Perplexity) is pretty good source :)"
   ],
   "metadata": {
    "collapsed": false,
    "pycharm": {
     "name": "#%% md\n"
    }
   }
  },
  {
   "cell_type": "code",
   "execution_count": 201,
   "outputs": [
    {
     "name": "stdout",
     "output_type": "stream",
     "text": [
      "Epoch: 01 | Time: 1m 25s\n",
      "\tTrain Loss: 3.557 | Train PPL:  35.068\n",
      "\t Val. Loss: 2.883 |  Val. PPL:  17.875\n",
      "Epoch: 02 | Time: 1m 26s\n",
      "\tTrain Loss: 2.137 | Train PPL:   8.478\n",
      "\t Val. Loss: 2.539 |  Val. PPL:  12.667\n",
      "Epoch: 03 | Time: 1m 28s\n",
      "\tTrain Loss: 1.683 | Train PPL:   5.381\n",
      "\t Val. Loss: 2.408 |  Val. PPL:  11.108\n",
      "Epoch: 04 | Time: 1m 28s\n",
      "\tTrain Loss: 1.430 | Train PPL:   4.179\n",
      "\t Val. Loss: 2.379 |  Val. PPL:  10.796\n",
      "Epoch: 05 | Time: 1m 28s\n",
      "\tTrain Loss: 1.270 | Train PPL:   3.561\n",
      "\t Val. Loss: 2.333 |  Val. PPL:  10.306\n",
      "| Test Loss: 2.292 | Test PPL:   9.894 |\n"
     ]
    }
   ],
   "source": [
    "epoch_losses = []\n",
    "for epoch in range(N_EPOCHS):\n",
    "    start_time = time.time()\n",
    "    train_loss = train_epoch(model, train_dataloader, optimizer, criterion, CLIP)\n",
    "    epoch_losses.append(train_loss)\n",
    "    valid_loss = evaluate(model, val_dataloader, criterion)\n",
    "    end_time = time.time()\n",
    "    epoch_mins, epoch_secs = epoch_time(start_time, end_time)\n",
    "    print(f'Epoch: {epoch+1:02} | Time: {epoch_mins}m {epoch_secs}s')\n",
    "    print(f'\\tTrain Loss: {train_loss:.3f} | Train PPL: {math.exp(train_loss):7.3f}')\n",
    "    print(f'\\t Val. Loss: {valid_loss:.3f} |  Val. PPL: {math.exp(valid_loss):7.3f}')\n",
    "\n",
    "test_loss = evaluate(model, test_dataloader, criterion)\n",
    "\n",
    "print(f'| Test Loss: {test_loss:.3f} | Test PPL: {math.exp(test_loss):7.3f} |')"
   ],
   "metadata": {
    "collapsed": false,
    "pycharm": {
     "name": "#%%\n"
    }
   }
  },
  {
   "cell_type": "markdown",
   "source": [
    "Even 5 epochs of training results in a robust model due to our short length sentences and powerful model architecture."
   ],
   "metadata": {
    "collapsed": false,
    "pycharm": {
     "name": "#%% md\n"
    }
   }
  },
  {
   "cell_type": "code",
   "execution_count": 202,
   "outputs": [
    {
     "data": {
      "text/plain": "<Figure size 432x288 with 0 Axes>"
     },
     "metadata": {},
     "output_type": "display_data"
    },
    {
     "data": {
      "text/plain": "<Figure size 432x288 with 1 Axes>",
      "image/png": "[encoded data removed]"
     },
     "metadata": {
      "needs_background": "light"
     },
     "output_type": "display_data"
    }
   ],
   "source": [
    "show_plot(epoch_losses)"
   ],
   "metadata": {
    "collapsed": false,
    "pycharm": {
     "name": "#%%\n"
    }
   }
  },
  {
   "cell_type": "markdown",
   "source": [
    "## Inference\n",
    "\n",
    "Inference is very similar to Seq2Seq models forward pass. However, here we are only interested in getting the output of one \"sentence\" or \"phrase\". We need to be consistent with our training when inputting. Hence, we are going to add SOS & EOS tokens to the input.\n",
    "\n",
    "Unlike the training, we are keeping the attention values so that later we can create the attention map visualizations."
   ],
   "metadata": {
    "collapsed": false,
    "pycharm": {
     "name": "#%% md\n"
    }
   }
  },
  {
   "cell_type": "code",
   "execution_count": 203,
   "outputs": [],
   "source": [
    "@torch.no_grad()\n",
    "def infer(model: Seq2Seq, sentence: str, max_len: int):\n",
    "    sentence = ' '.join([sos_token, normalize_string(sentence), eos_token])\n",
    "    input_tensor = tensor_from_sentence(input_lang, sentence)\n",
    "    padded_input_tensor = torch.full([longest_input_length], pad_token_index, dtype=torch.long, device=device)\n",
    "    padded_input_tensor[:len(input_tensor)] = input_tensor\n",
    "    encoder_output, hidden = model.encoder(padded_input_tensor.view(1, -1))\n",
    "    decoder_attentions = torch.zeros(max_len, longest_input_length, device=device)\n",
    "    decoded_words = []\n",
    "    output = torch.tensor([sos_token_index], dtype=torch.long, device=device)\n",
    "    for t in range(max_len):\n",
    "        output, hidden, decoder_attention = model.decoder.forward(output, hidden, encoder_output)\n",
    "        decoder_attentions[t] = decoder_attention[0, :]\n",
    "        top_v, top_i = output.topk(1)\n",
    "        top_i = top_i.squeeze(1)\n",
    "        if top_i == eos_token_index:\n",
    "            decoded_words.append(eos_token)\n",
    "            break\n",
    "        else:\n",
    "            decoded_words.append(output_lang.index2word[top_i.item()])\n",
    "        output = top_i.detach()\n",
    "\n",
    "    return decoded_words, decoder_attentions"
   ],
   "metadata": {
    "collapsed": false,
    "pycharm": {
     "name": "#%%\n"
    }
   }
  },
  {
   "cell_type": "markdown",
   "source": [
    "Function for random inference. We can cross check from google translate :) to test our model by our eyes."
   ],
   "metadata": {
    "collapsed": false,
    "pycharm": {
     "name": "#%% md\n"
    }
   }
  },
  {
   "cell_type": "code",
   "execution_count": 204,
   "outputs": [],
   "source": [
    "def infer_randomly(model, n=5):\n",
    "    for i in range(n):\n",
    "        pair = random.choice(pairs)\n",
    "        print('>', pair[0])\n",
    "        print('=', pair[1])\n",
    "        output_words, attentions = infer(model, pair[0], longest_output_length)\n",
    "        output_sentence = ' '.join(output_words)\n",
    "        print('<', output_sentence)\n",
    "        print('')"
   ],
   "metadata": {
    "collapsed": false,
    "pycharm": {
     "name": "#%%\n"
    }
   }
  },
  {
   "cell_type": "code",
   "execution_count": 205,
   "outputs": [
    {
     "name": "stdout",
     "output_type": "stream",
     "text": [
      "> he saw the girl .\n",
      "= il a vu la fille .\n",
      "< il a vu la fille . <end>\n",
      "\n",
      "> i just wanted to check my email .\n",
      "= je voulais juste verifier mes courriels .\n",
      "< je voulais juste verifier mon emails . <end>\n",
      "\n",
      "> who owns this house ?\n",
      "= qui est proprietaire de cette maison ?\n",
      "< qui a proprietaire cette maison ? <end>\n",
      "\n",
      "> she is aggressive .\n",
      "= elle est agressive .\n",
      "< elle est agressive . <end>\n",
      "\n",
      "> it was an awful week .\n",
      "= ca a ete une semaine atroce .\n",
      "< c etait une une semaine atroce . <end>\n",
      "\n"
     ]
    }
   ],
   "source": [
    "infer_randomly(model)"
   ],
   "metadata": {
    "collapsed": false,
    "pycharm": {
     "name": "#%%\n"
    }
   }
  },
  {
   "cell_type": "markdown",
   "source": [
    "Visualizing raw attention map for a random pair."
   ],
   "metadata": {
    "collapsed": false,
    "pycharm": {
     "name": "#%% md\n"
    }
   }
  },
  {
   "cell_type": "code",
   "execution_count": 206,
   "outputs": [
    {
     "name": "stdout",
     "output_type": "stream",
     "text": [
      "['tom hates being told to hurry .', 'tom deteste qu on lui dise de se depecher .']\n",
      "['tom', 'deteste', 'etre', 'il', 'a', 'a', 'depecher', '.', '<end>']\n"
     ]
    },
    {
     "data": {
      "text/plain": "<matplotlib.image.AxesImage at 0x7f88607aa370>"
     },
     "execution_count": 206,
     "metadata": {},
     "output_type": "execute_result"
    },
    {
     "data": {
      "text/plain": "<Figure size 314.182x288 with 1 Axes>",
      "image/png": "[encoded data removed]"
     },
     "metadata": {
      "needs_background": "light"
     },
     "output_type": "display_data"
    }
   ],
   "source": [
    "test_pair = random.choice(pairs)\n",
    "print(test_pair)\n",
    "decoded_words, decoder_attentions = infer(model, test_pair[0], longest_output_length)\n",
    "print(decoded_words)\n",
    "plt.matshow(decoder_attentions.cpu().numpy())"
   ],
   "metadata": {
    "collapsed": false,
    "pycharm": {
     "name": "#%%\n"
    }
   }
  },
  {
   "cell_type": "markdown",
   "source": [
    "Prettifying our attention map to label indices and labels."
   ],
   "metadata": {
    "collapsed": false,
    "pycharm": {
     "name": "#%% md\n"
    }
   }
  },
  {
   "cell_type": "code",
   "execution_count": 222,
   "outputs": [],
   "source": [
    "def show_attention(input_sentence, output_words, attentions):\n",
    "    # Set up figure with colorbar\n",
    "    fig = plt.figure()\n",
    "    ax = fig.add_subplot(111)\n",
    "    cax = ax.matshow(attentions.cpu().numpy(), cmap='bone')\n",
    "    fig.colorbar(cax)\n",
    "\n",
    "    # Set up axes\n",
    "    ax.set_xticklabels([''] + input_sentence.split(' '), rotation=90)\n",
    "    ax.set_yticklabels([''] + output_words)\n",
    "\n",
    "    # Show label at every tick\n",
    "    ax.xaxis.set_major_locator(ticker.MultipleLocator(1))\n",
    "    ax.yaxis.set_major_locator(ticker.MultipleLocator(1))\n",
    "\n",
    "    plt.show()"
   ],
   "metadata": {
    "collapsed": false,
    "pycharm": {
     "name": "#%%\n"
    }
   }
  },
  {
   "cell_type": "code",
   "execution_count": 223,
   "outputs": [],
   "source": [
    "def infer_and_show_attention(input_sentence):\n",
    "    output_words, attentions = infer(model, input_sentence, longest_output_length)\n",
    "    output = ' '.join(output_words)\n",
    "    print('input =', input_sentence)\n",
    "    print('output =', output)\n",
    "    attentions = attentions[:len(output.split(' ')), 1:len(input_sentence.split(' ')) + 1]\n",
    "    show_attention(' '.join([ normalize_string(input_sentence), eos_token]), output_words, attentions)"
   ],
   "metadata": {
    "collapsed": false,
    "pycharm": {
     "name": "#%%\n"
    }
   }
  },
  {
   "cell_type": "code",
   "execution_count": 226,
   "outputs": [
    {
     "name": "stdout",
     "output_type": "stream",
     "text": [
      "input = she s five years younger than me .\n",
      "output = elle a cinq ans de jeune que moi . <end>\n"
     ]
    },
    {
     "name": "stderr",
     "output_type": "stream",
     "text": [
      "/tmp/ipykernel_11060/3299921217.py:9: UserWarning: FixedFormatter should only be used together with FixedLocator\n",
      "  ax.set_xticklabels([''] + input_sentence.split(' '), rotation=90)\n",
      "/tmp/ipykernel_11060/3299921217.py:10: UserWarning: FixedFormatter should only be used together with FixedLocator\n",
      "  ax.set_yticklabels([''] + output_words)\n"
     ]
    },
    {
     "data": {
      "text/plain": "<Figure size 432x288 with 2 Axes>",
      "image/png": "[encoded data removed]"
     },
     "metadata": {
      "needs_background": "light"
     },
     "output_type": "display_data"
    }
   ],
   "source": [
    "infer_and_show_attention('she s five years younger than me .')"
   ],
   "metadata": {
    "collapsed": false,
    "pycharm": {
     "name": "#%%\n"
    }
   }
  },
  {
   "cell_type": "markdown",
   "source": [
    "## Optional Homeworks\n",
    "- Using BLEU score to evaluate our models translation abilities.\n",
    "- Train the model with different hyperparameters\n",
    "- Try to use the same architecture with different dataset, Q/A, Chat/Response, Human/Machine(e.g. IOT commands)\n",
    "- Try to use different models for encoder - decoder\n",
    "    - try it with different attention mechanisms\n",
    "    - try it without attention and compare results\n",
    "- Training as an autoencoder\n",
    "- After training try to use encoder as a backbone for other downstreams tasks, such emotion recognition.\n",
    "- Instead of training embedding layer from scratch use pretrained embeddings such as word2vec - GloVe"
   ],
   "metadata": {
    "collapsed": false,
    "pycharm": {
     "name": "#%% md\n"
    }
   }
  },
  {
   "cell_type": "markdown",
   "source": [
    "sources:\n",
    "- https://pytorch.org/tutorials/intermediate/seq2seq_translation_tutorial.html\n",
    "- https://pytorch.org/tutorials/beginner/torchtext_translation_tutorial.html\n",
    "- https://sh-tsang.medium.com/review-neural-machine-translation-by-jointly-learning-to-align-and-translate-3b381fc032e3\n",
    "- https://arxiv.org/pdf/1409.0473.pdf\n",
    "- https://lilianweng.github.io/lil-log/2018/06/24/attention-attention.html\n",
    "- https://jalammar.github.io/visualizing-neural-machine-translation-mechanics-of-seq2seq-models-with-attention/\n",
    "- https://pytorch.org/tutorials/beginner/basics/data_tutorial.html\n",
    "- https://github.com/SethHWeidman/pytorch-seq2seq/"
   ],
   "metadata": {
    "collapsed": false,
    "pycharm": {
     "name": "#%% md\n"
    }
   }
  }
 ],
 "metadata": {
  "kernelspec": {
   "name": "pycharm-lit-template",
   "language": "python",
   "display_name": "lit_template"
  },
  "language_info": {
   "codemirror_mode": {
    "name": "ipython",
    "version": 2
   },
   "file_extension": ".py",
   "mimetype": "text/x-python",
   "name": "python",
   "nbconvert_exporter": "python",
   "pygments_lexer": "ipython2",
   "version": "2.7.6"
  }
 },
 "nbformat": 4,
 "nbformat_minor": 0
}